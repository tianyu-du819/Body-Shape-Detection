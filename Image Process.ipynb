{
 "cells": [
  {
   "cell_type": "code",
   "execution_count": 1,
   "metadata": {},
   "outputs": [],
   "source": [
    "import glob as gb\n",
    "import cv2\n",
    "import numpy as np"
   ]
  },
  {
   "cell_type": "code",
   "execution_count": 12,
   "metadata": {},
   "outputs": [],
   "source": [
    "# img_path = gb.glob(\"D:\\\\BiometricsCoursework\\\\data\\\\training\\\\*.jpg\")\n",
    "img_path = gb.glob(\"training\\\\*.jpg\")\n",
    "side_view_face_cascade = cv2.CascadeClassifier(\"D:\\\\BiometricsCoursework\\\\opencv\\\\opencv\\\\sources\\\\data\\\\lbpcascades\\\\lbpcascade_profileface.xml\")\n",
    "frontal_face_cascade = cv2.CascadeClassifier(\"D:\\\\BiometricsCoursework\\\\opencv\\\\opencv\\\\sources\\\\data\\\\haarcascades\\\\haarcascade_frontalface_default.xml\")"
   ]
  },
  {
   "cell_type": "code",
   "execution_count": 32,
   "metadata": {},
   "outputs": [],
   "source": [
    "# Cut the head from picture\n",
    "def CutHead(image):\n",
    "    # Find the Highest Point\n",
    "    m=0\n",
    "    width=image.shape[1]\n",
    "    heigh=image.shape[0]\n",
    "    for i in range(0,heigh):\n",
    "        for j in range(0,width):\n",
    "            if image[i,j]==255:\n",
    "                m=i\n",
    "                break\n",
    "        if m!=0:\n",
    "            break\n",
    "    img=image[m:heigh,:]\n",
    "    width=img.shape[1]\n",
    "    heigh=img.shape[0]\n",
    "    # Find left point\n",
    "    m=0\n",
    "    for i in range(0,width):\n",
    "        for j in range(0,heigh):\n",
    "            if img[j,i]==255:\n",
    "                m=i\n",
    "                break\n",
    "        if m!=0:\n",
    "            break\n",
    "    img=img[:,m:width]\n",
    "    width=img.shape[1]\n",
    "    heigh=img.shape[0]\n",
    "    # Find right point\n",
    "    m=0\n",
    "    for i in range(width-1,-1,-1):\n",
    "        for j in range(0,heigh):\n",
    "            if img[j,i]==255:\n",
    "                m=i\n",
    "                break\n",
    "        if m!=0:\n",
    "            break\n",
    "    # Cut head\n",
    "    img=img[:,0:m]\n",
    "    return img"
   ]
  },
  {
   "cell_type": "code",
   "execution_count": 36,
   "metadata": {
    "scrolled": true
   },
   "outputs": [],
   "source": [
    "for path in img_path:\n",
    "    out_name = str(path)\n",
    "    out_name = out_name[9:18]\n",
    "    img = cv2.imread(path)\n",
    "    img2gray = cv2.cvtColor(img, cv2.COLOR_BGR2GRAY)\n",
    "    frontal_position = frontal_face_cascade.detectMultiScale(img2gray, 1.3, 5)\n",
    "    if len(frontal_face_position) == 0:\n",
    "        side_position = side_view_face_cascade.detectMultiScale(img2gray, 1.03, 5)\n",
    "\n",
    "    # Transfer to YCrCb Colour space for better doing threshold\n",
    "    img = cv2.cvtColor(img, cv2.COLOR_BGR2YCrCb)\n",
    "    img = cv2.cvtColor(img, cv2.COLOR_BGR2GRAY)  # Gray scale\n",
    "    img = cv2.GaussianBlur(img, (9, 9), 0)  # Blur\n",
    "\n",
    "    # Threshold\n",
    "    _, img = cv2.threshold(img, 0, 255, cv2.THRESH_BINARY + cv2.THRESH_OTSU)\n",
    "    \n",
    "    \n",
    "    # If the input picture is frontal view of head\n",
    "    if len(frontal_position) != 0:\n",
    "        (x, y, w, h) = frontal_face_position[0]\n",
    "        frontal_head = img[y - 70:y + h + 10, x - 40:x + w + 35]\n",
    "        img=CutHead(frontal_head)\n",
    "        cv2.imwrite(str(out_name) + \".png\", img)\n",
    "\n",
    "    # If the input picture is side view of head\n",
    "    if len(frontal_position) == 0:\n",
    "        (x, y, w, h) = side_position[0]\n",
    "        side_view_head = img[y - 90:y + h, x - 40:x + w + 160]\n",
    "        # Calculate features for side_view state\n",
    "        img=CutHead(side_view_head)\n",
    "        cv2.imwrite(str(out_name) + \".png\", img)"
   ]
  },
  {
   "cell_type": "code",
   "execution_count": 8,
   "metadata": {},
   "outputs": [],
   "source": [
    "# Cut full body from image\n",
    "def cutbody(image):\n",
    "    m=0\n",
    "    heigh=image.shape[0]\n",
    "    width=image.shape[1]\n",
    "    for i in range(0,heigh):\n",
    "        for j in range(0,width):\n",
    "            if image[i,j]==255:\n",
    "                m=i\n",
    "                break\n",
    "        if m!=0:\n",
    "            break\n",
    "    img=image[m:heigh,:]\n",
    "    return img"
   ]
  },
  {
   "cell_type": "code",
   "execution_count": 17,
   "metadata": {
    "scrolled": true
   },
   "outputs": [
    {
     "name": "stdout",
     "output_type": "stream",
     "text": [
      "016z050pf\n"
     ]
    }
   ],
   "source": [
    "from imageai.Detection import ObjectDetection\n",
    "import os\n",
    "# use imageAI\n",
    "execution_path = os.getcwd()\n",
    "detector = ObjectDetection()\n",
    "detector.setModelTypeAsYOLOv3()\n",
    "detector.setModelPath( os.path.join(execution_path , \"yolo.h5\"))\n",
    "detector.loadModel()\n",
    "i=0\n",
    "for path in img_path:\n",
    "    i=i+1\n",
    "    execution_path = path\n",
    "    custom_objects = detector.CustomObjects(person=True)\n",
    "    detections = detector.detectCustomObjectsFromImage(custom_objects=custom_objects, input_image=os.path.join(path))\n",
    "    # Get body position\n",
    "    fullbody_position=detections[0][\"box_points\"]\n",
    "    x=fullbody_position[0]\n",
    "    y=fullbody_position[1]\n",
    "    w=fullbody_position[2]\n",
    "    h=fullbody_position[3]\n",
    "    out_name = str(path)\n",
    "    out_name = out_name[9:18]\n",
    "    print(out_name)\n",
    "    img = cv2.imread(path)\n",
    "    img=img[y:y+h,x:x+w]\n",
    "    # Transfer to YCrCb\n",
    "    img = cv2.cvtColor(img, cv2.COLOR_BGR2YCrCb)\n",
    "    img = cv2.cvtColor(img, cv2.COLOR_BGR2GRAY)  # Gray scale\n",
    "    img = cv2.GaussianBlur(img, (9, 9), 0)  # Blur\n",
    "    # Threshold\n",
    "    _, threshold = cv2.threshold(img, 0, 255, cv2.THRESH_BINARY + cv2.THRESH_OTSU)\n",
    "    img=cutbody(threshold)\n",
    "    cv2.imwrite(str(out_name) + \".png\", img)\n"
   ]
  }
 ],
 "metadata": {
  "kernelspec": {
   "display_name": "Python 3",
   "language": "python",
   "name": "python3"
  },
  "language_info": {
   "codemirror_mode": {
    "name": "ipython",
    "version": 3
   },
   "file_extension": ".py",
   "mimetype": "text/x-python",
   "name": "python",
   "nbconvert_exporter": "python",
   "pygments_lexer": "ipython3",
   "version": "3.7.3"
  },
  "widgets": {
   "state": {},
   "version": "1.1.2"
  }
 },
 "nbformat": 4,
 "nbformat_minor": 2
}
