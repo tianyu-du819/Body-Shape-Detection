{
 "cells": [
  {
   "cell_type": "code",
   "execution_count": 10,
   "metadata": {},
   "outputs": [],
   "source": [
    "import glob as gb\n",
    "import cv2\n",
    "import numpy as np\n",
    "import random\n",
    "from sklearn.externals import joblib\n",
    "import requests"
   ]
  },
  {
   "cell_type": "code",
   "execution_count": 11,
   "metadata": {},
   "outputs": [],
   "source": [
    "head_silhouette_path = gb.glob(\"head_test\\\\*.png\")\n",
    "whole_body_edge_path = gb.glob(\"fullbody_test\\\\*.png\")\n",
    "img_path=gb.glob(\"test\\\\*.jpg\")\n",
    "feature_list = []\n",
    "gender_list=[]\n",
    "ethnicity_list=[]\n",
    "age_list=[]\n",
    "length = []\n",
    "whole_body_height_list = []"
   ]
  },
  {
   "cell_type": "code",
   "execution_count": 17,
   "metadata": {},
   "outputs": [],
   "source": [
    "Url='https://api-cn.faceplusplus.com/facepp/v3/detect' \n",
    "URL='https://api-cn.faceplusplus.com/humanbodypp/v1/skeleton'\n",
    "key = \"1s-bG5PaBywr0DGIn7JMFDm3PWENN0il\"    \n",
    "secret = \"a--zQAxt_M98ZxKrEzyGBPfJG-qZKord\"\n",
    "attributes=\"gender,age,ethnicity,eyegaze\"\n",
    "data={\"api_key\":key,\"api_secret\":secret,\"return_attributes\":attributes}\n",
    "data2={\"api_key\":key,\"api_secret\":secret}"
   ]
  },
  {
   "cell_type": "code",
   "execution_count": 13,
   "metadata": {},
   "outputs": [],
   "source": [
    "# Features of Head\n",
    "feature_list = []\n",
    "for path in head_silhouette_path:\n",
    "    # for path in head_silhouette_path:\n",
    "    img = cv2.imread(path, 0)\n",
    "    height = img.shape[0]\n",
    "    width= img.shape[1]\n",
    "    feature_list.append(height)\n",
    "    feature_list.append(width)\n",
    "\n",
    "# Feature of whole body height\n",
    "for path in whole_body_edge_path:\n",
    "    img = cv2.imread(path, 0)\n",
    "    height_of_whole_body=img.shape[0]\n",
    "    whole_body_height_list.append(height_of_whole_body)"
   ]
  },
  {
   "cell_type": "code",
   "execution_count": 14,
   "metadata": {},
   "outputs": [],
   "source": [
    "m=0\n",
    "gender_list=[]\n",
    "ethnicity_list=[]\n",
    "age_list=[]\n",
    "for path2 in img_path:\n",
    "    m=m+1\n",
    "    files={\"image_file\":open(path2,\"rb\")}\n",
    "    response=requests.post(Url,data=data,files=files)\n",
    "    reqcon=response.content.decode('utf-8')\n",
    "    mydict = eval(reqcon)\n",
    "    face=mydict['faces']\n",
    "    age=face[0]['attributes']['age']['value']\n",
    "    gender=face[0]['attributes']['gender']['value']\n",
    "    ethnicty=face[0]['attributes']['ethnicity']['value']\n",
    "    gender_list.append(gender)\n",
    "    ethnicity_list.append(ethnicty)\n",
    "    age_list.append(age)"
   ]
  },
  {
   "cell_type": "code",
   "execution_count": 15,
   "metadata": {
    "scrolled": true
   },
   "outputs": [
    {
     "name": "stdout",
     "output_type": "stream",
     "text": [
      "0\n",
      "2\n",
      "4\n",
      "6\n",
      "8\n",
      "10\n",
      "12\n",
      "14\n",
      "16\n",
      "18\n",
      "20\n"
     ]
    }
   ],
   "source": [
    "for i in range(22):\n",
    "    if (i%2)==0:\n",
    "        gender_list[i]=gender_list[i+1]\n",
    "        ethnicity_list[i]=ethnicity_list[i+1]\n",
    "        age_list[i]=age_list[i+1]\n",
    "        print(i)"
   ]
  },
  {
   "cell_type": "code",
   "execution_count": 18,
   "metadata": {},
   "outputs": [
    {
     "name": "stdout",
     "output_type": "stream",
     "text": [
      "1 and 2 are ok\n",
      "3 and 4 are ok\n",
      "5 and 6 are ok\n",
      "7 and 8 are ok\n",
      "9 and 10 are ok\n",
      "11 and 12 are ok\n",
      "13 and 14 are ok\n",
      "15 and 16 are ok\n",
      "17 and 18 are ok\n",
      "19 and 20 are ok\n",
      "21 and 22 are ok\n"
     ]
    }
   ],
   "source": [
    "# Compute Shoulder Width\n",
    "m=0\n",
    "shoulderWidth_list=[]\n",
    "for path in img_path:\n",
    "    m=m+1\n",
    "    files={\"image_file\":open(path,\"rb\")}\n",
    "    if m%2==0:\n",
    "        response2=requests.post(URL,data=data2,files=files)\n",
    "        reqcon2=response2.content.decode('utf-8')\n",
    "        mydict2 = eval(reqcon2)\n",
    "        rrx=mydict2['skeletons'][0]['landmark']['left_shoulder']['x']\n",
    "        rry=mydict2['skeletons'][0]['landmark']['left_shoulder']['y']\n",
    "        llx=mydict2['skeletons'][0]['landmark']['right_shoulder']['x']\n",
    "        lly=mydict2['skeletons'][0]['landmark']['right_shoulder']['y']\n",
    "        shoulderWidth=(rrx-llx)**2+(rry-lly)**2\n",
    "        shoulderWidth_list.append(shoulderWidth)\n",
    "        shoulderWidth_list.append(shoulderWidth)\n",
    "        print(m-1,\"and\",m,\"are ok\")"
   ]
  },
  {
   "cell_type": "code",
   "execution_count": 19,
   "metadata": {},
   "outputs": [
    {
     "name": "stdout",
     "output_type": "stream",
     "text": [
      "[['177' '177' '1218' 'Male' 'WHITE' '24' '53066']\n",
      " ['190' '147' '1222' 'Male' 'WHITE' '24' '53066']\n",
      " ['154' '173' '1131' 'Female' 'WHITE' '27' '32525']\n",
      " ['151' '155' '1133' 'Female' 'WHITE' '27' '32525']\n",
      " ['181' '202' '1206' 'Male' 'INDIA' '28' '54185']\n",
      " ['174' '143' '1205' 'Male' 'INDIA' '28' '54185']\n",
      " ['181' '157' '1215' 'Male' 'WHITE' '23' '47089']\n",
      " ['172' '148' '1223' 'Male' 'WHITE' '23' '47089']\n",
      " ['184' '177' '1272' 'Male' 'WHITE' '31' '57605']\n",
      " ['177' '154' '1280' 'Male' 'WHITE' '31' '57605']\n",
      " ['171' '172' '1297' 'Male' 'WHITE' '30' '50176']\n",
      " ['171' '146' '1305' 'Male' 'WHITE' '30' '50176']\n",
      " ['155' '159' '1169' 'Male' 'ASIAN' '25' '40085']\n",
      " ['163' '137' '1183' 'Male' 'ASIAN' '25' '40085']\n",
      " ['178' '164' '1224' 'Male' 'ASIAN' '22' '56169']\n",
      " ['171' '141' '1223' 'Male' 'ASIAN' '22' '56169']\n",
      " ['183' '170' '1222' 'Male' 'WHITE' '43' '58081']\n",
      " ['178' '150' '1215' 'Male' 'WHITE' '43' '58081']\n",
      " ['171' '164' '1243' 'Male' 'BLACK' '43' '60509']\n",
      " ['184' '147' '1244' 'Male' 'BLACK' '43' '60509']\n",
      " ['155' '145' '1345' 'Male' 'ASIAN' '41' '44645']\n",
      " ['212' '182' '1345' 'Male' 'ASIAN' '41' '44645']]\n",
      "(22, 7)\n"
     ]
    }
   ],
   "source": [
    "gender_feature=np.array(gender_list)\n",
    "gender_feature=gender_feature.reshape(22,1)\n",
    "\n",
    "ethnicity_feature=np.array(ethnicity_list)\n",
    "ethnicity_feature=ethnicity_feature.reshape(22,1)\n",
    "\n",
    "age_feature=np.array(age_list)\n",
    "age_feature=age_feature.reshape(22,1)\n",
    "\n",
    "whole_body_height_matrix = np.array(whole_body_height_list)\n",
    "whole_body_height_matrix = whole_body_height_matrix.reshape(22, 1)\n",
    "\n",
    "feature_matrix = np.array(feature_list)\n",
    "feature_matrix = feature_matrix.reshape(22, 2)\n",
    "\n",
    "shoulderWidth_matrix = np.array(shoulderWidth_list)\n",
    "shoulderWidth_matrix = shoulderWidth_matrix.reshape(22, 1)\n",
    "\n",
    "feature = np.concatenate((feature_matrix, whole_body_height_matrix,gender_feature,ethnicity_feature,age_feature,shoulderWidth_matrix), axis=1)\n",
    "print(feature)\n",
    "print(feature.shape)"
   ]
  },
  {
   "cell_type": "code",
   "execution_count": 20,
   "metadata": {},
   "outputs": [],
   "source": [
    "#encode some features\n",
    "for i in range(22):\n",
    "    if feature[i][3]=='Male':\n",
    "        feature[i][3]=0\n",
    "    if feature[i][3]=='Female':\n",
    "        feature[i][3]=1\n",
    "    if feature[i][4]==\"ASIAN\":\n",
    "        feature[i][4]=1\n",
    "    if feature[i][4]==\"INDIA\":\n",
    "        feature[i][4]=2\n",
    "    if feature[i][4]==\"BLACK\":\n",
    "        feature[i][4]=3\n",
    "    if feature[i][4]==\"WHITE\":\n",
    "        feature[i][4]=4"
   ]
  },
  {
   "cell_type": "code",
   "execution_count": 21,
   "metadata": {},
   "outputs": [
    {
     "name": "stdout",
     "output_type": "stream",
     "text": [
      "[['177' '177' '1218' '0' '4' '24' '53066']\n",
      " ['190' '147' '1222' '0' '4' '24' '53066']\n",
      " ['154' '173' '1131' '1' '4' '27' '32525']\n",
      " ['151' '155' '1133' '1' '4' '27' '32525']\n",
      " ['181' '202' '1206' '0' '2' '28' '54185']\n",
      " ['174' '143' '1205' '0' '2' '28' '54185']\n",
      " ['181' '157' '1215' '0' '4' '23' '47089']\n",
      " ['172' '148' '1223' '0' '4' '23' '47089']\n",
      " ['184' '177' '1272' '0' '4' '31' '57605']\n",
      " ['177' '154' '1280' '0' '4' '31' '57605']\n",
      " ['171' '172' '1297' '0' '4' '30' '50176']\n",
      " ['171' '146' '1305' '0' '4' '30' '50176']\n",
      " ['155' '159' '1169' '0' '1' '25' '40085']\n",
      " ['163' '137' '1183' '0' '1' '25' '40085']\n",
      " ['178' '164' '1224' '0' '1' '22' '56169']\n",
      " ['171' '141' '1223' '0' '1' '22' '56169']\n",
      " ['183' '170' '1222' '0' '4' '43' '58081']\n",
      " ['178' '150' '1215' '0' '4' '43' '58081']\n",
      " ['171' '164' '1243' '0' '3' '43' '60509']\n",
      " ['184' '147' '1244' '0' '3' '43' '60509']\n",
      " ['155' '145' '1345' '0' '1' '41' '44645']\n",
      " ['212' '182' '1345' '0' '1' '41' '44645']]\n"
     ]
    }
   ],
   "source": [
    "print(feature)"
   ]
  },
  {
   "cell_type": "code",
   "execution_count": 41,
   "metadata": {},
   "outputs": [
    {
     "data": {
      "text/plain": [
       "['feature_test.pkl']"
      ]
     },
     "execution_count": 41,
     "metadata": {},
     "output_type": "execute_result"
    }
   ],
   "source": [
    "joblib.dump(feature, 'feature_test.pkl')"
   ]
  }
 ],
 "metadata": {
  "kernelspec": {
   "display_name": "Python 3",
   "language": "python",
   "name": "python3"
  },
  "language_info": {
   "codemirror_mode": {
    "name": "ipython",
    "version": 3
   },
   "file_extension": ".py",
   "mimetype": "text/x-python",
   "name": "python",
   "nbconvert_exporter": "python",
   "pygments_lexer": "ipython3",
   "version": "3.7.3"
  },
  "widgets": {
   "state": {},
   "version": "1.1.2"
  }
 },
 "nbformat": 4,
 "nbformat_minor": 2
}
